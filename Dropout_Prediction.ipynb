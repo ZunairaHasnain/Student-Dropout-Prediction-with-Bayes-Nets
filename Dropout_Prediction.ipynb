{
 "cells": [
  {
   "cell_type": "markdown",
   "metadata": {
    "id": "XWqWE67w6hft"
   },
   "source": [
    "# ***Student Dropout Prediction with Bayes Nets***\n",
    "\n"
   ]
  },
  {
   "cell_type": "code",
   "execution_count": null,
   "metadata": {
    "id": "vh_BjFWFWpz9"
   },
   "outputs": [],
   "source": [
    "#Import all necessary libraries\n",
    "import pandas as pd\n",
    "import numpy as np\n",
    "import matplotlib.pyplot as plt\n",
    "import networkx as nx\n",
    "import operator\n",
    "from functools import reduce\n",
    "from IPython.core.display import display, HTML\n",
    "from pgmpy.models import BayesianModel\n",
    "from pgmpy.estimators import MaximumLikelihoodEstimator, BayesianEstimator\n",
    "from pgmpy.factors.discrete import TabularCPD, State\n",
    "from pgmpy.inference import VariableElimination\n",
    "from pgmpy.sampling import BayesianModelSampling\n",
    "from pgmpy.independencies import Independencies, IndependenceAssertion\n",
    "%matplotlib inline\n"
   ]
  },
  {
   "cell_type": "code",
   "execution_count": null,
   "metadata": {
    "colab": {
     "base_uri": "https://localhost:8080/",
     "height": 326
    },
    "id": "7mSPgU_D2zj-",
    "outputId": "2b289fc0-257e-423e-91f8-707e91c8a19d"
   },
   "outputs": [],
   "source": [
    "# Load and preview the dataset\n",
    "data = pd.read_csv('/content/dataset1.csv')\n",
    "print('Number of rows and columns: {}'.format(data.shape))\n",
    "data.head()\n"
   ]
  },
  {
   "cell_type": "markdown",
   "metadata": {
    "id": "qI1DcbXC_F-5"
   },
   "source": [
    "This dataset contains data from a higher education institution on various variables related to undergraduate students, including demographics, social-economic factors, and academic performance, to investigate the impact of these factors on student dropout and academic success. The dataset can be downloaded from this [link](https://www.kaggle.com/datasets/thedevastator/higher-education-predictors-of-student-retention/data)."
   ]
  },
  {
   "cell_type": "code",
   "execution_count": null,
   "metadata": {
    "colab": {
     "base_uri": "https://localhost:8080/"
    },
    "id": "8NGLa7_63Sws",
    "outputId": "477257f5-52af-4416-ad30-98dcb1d02a52"
   },
   "outputs": [],
   "source": [
    "# Print all the columns of the dataset\n",
    "print(data.columns.values)"
   ]
  },
  {
   "cell_type": "markdown",
   "metadata": {
    "id": "DlbF36zfBSWG"
   },
   "source": [
    "For this project, we have selected seven key features i.e **Daytime/evening attendance, Scholarship holder,\n",
    "International status, Age at enrollment, Unemployment rate, Inflation rate, and the Target** to more accurately assess undergraduate dropout risk and academic outcomes.\n"
   ]
  },
  {
   "cell_type": "code",
   "execution_count": null,
   "metadata": {
    "colab": {
     "base_uri": "https://localhost:8080/",
     "height": 206
    },
    "id": "rvuBcAG_3J0q",
    "outputId": "0e657338-9173-41bd-903b-d9acca50c283"
   },
   "outputs": [],
   "source": [
    "# Select only relevant features from the dataset\n",
    "df = data[[\n",
    "    'Daytime/evening attendance',\n",
    "    'Scholarship holder',\n",
    "    'International',\n",
    "    'Age at enrollment',\n",
    "    'Unemployment rate',\n",
    "    'Inflation rate',\n",
    "    'Target'\n",
    "]].copy()\n",
    "df.head(5)"
   ]
  },
  {
   "cell_type": "markdown",
   "metadata": {
    "id": "OqIV2mRv323j"
   },
   "source": [
    "**Discretization** converts continuous numeric variables into categorical bins to simplify analysis and reveal group level patterns. Here, we discretize key features **Age at enrollment**, **Unemployment rate** and **Inflation rate** to better assess how life stage and economic conditions influence undergraduate dropout risk and academic success.\n",
    "\n"
   ]
  },
  {
   "cell_type": "markdown",
   "metadata": {
    "id": "SSAtSY8CD9Lm"
   },
   "source": [
    "## **Description and Values of the Features**\n",
    "\n",
    "---\n",
    "***Daytime/evening attendance***\n",
    "\n",
    "Whether the student attends classes during the day or in the evening.\n",
    "\n",
    "0 = Daytime\n",
    "\n",
    "1= Evening\n",
    "\n",
    "***Scholarship holder***\n",
    "\n",
    "Whether the student is a scholarship holder.\n",
    "\n",
    "0 = Student is not  a scholarship holder\n",
    "\n",
    "1 = Student is a scholarship holder\n",
    "\n",
    "***International***\n",
    "\n",
    " Whether the student is an international student.\n",
    "\n",
    "0 = Student is not international\n",
    "\n",
    "1 = Student is international\n",
    "\n",
    "***Age Group***\n",
    "\n",
    "Discretizes the student’s age at enrollment into four life stage categories.\n",
    "\n",
    "Teen = student is under 20 years\n",
    "\n",
    "Young Adult = student is in between 20–29 years\n",
    "\n",
    "Adult = student is in between 30–39 years\n",
    "\n",
    "Older = student is 40 years and above\n",
    "\n",
    "***Unemployment Level***\n",
    "\n",
    "Discretizes the unemployment rate into three categories.\n",
    "\n",
    "Low = unmployment rate below 8 %\n",
    "\n",
    "Medium = unemployment  rate from 8 % up to 11 %\n",
    "\n",
    "High = unmployment rate of 12 % or higher\n",
    "\n",
    "***Inflation Level***\n",
    "\n",
    "Discretizes the inflation rate into three categories:\n",
    "\n",
    "Deflation = Inflation rate below 0 %\n",
    "\n",
    "Stable = Inflation rate from 0 % up to but not including 1 %\n",
    "\n",
    "Rising = Inflation rate of 1 % or higher\n",
    "\n",
    "***Target***\n",
    "\n",
    "Indicates the student’s final academic outcome.\n",
    "\n",
    "Dropout = student left the institution before completing the program\n",
    "\n",
    "Graduate = student successfully completed the program\n",
    "\n",
    "Enrolled = student is still actively pursuing the program"
   ]
  },
  {
   "cell_type": "code",
   "execution_count": null,
   "metadata": {
    "colab": {
     "base_uri": "https://localhost:8080/",
     "height": 206
    },
    "id": "LRMiiOr5WuB2",
    "outputId": "fa68fd6c-a7cf-4144-9ae2-48ad4c4bb80c"
   },
   "outputs": [],
   "source": [
    "def age_group(age):\n",
    "    if age < 20:\n",
    "        return 'Teen'\n",
    "    elif age < 30:\n",
    "        return 'Young Adult'\n",
    "    elif age < 40:\n",
    "        return 'Adult'\n",
    "    else:\n",
    "        return 'Older'\n",
    "df['Age Group'] = df['Age at enrollment'].apply(age_group)\n",
    "\n",
    "def unemployment_level(rate):\n",
    "    if rate < 8:\n",
    "        return 'Low'\n",
    "    elif rate < 12:\n",
    "        return 'Medium'\n",
    "    else:\n",
    "        return 'High'\n",
    "df['Unemployment Level'] = df['Unemployment rate'].apply(unemployment_level)\n",
    "\n",
    "def inflation_level(val):\n",
    "    if val < 0:\n",
    "        return 'Deflation'\n",
    "    elif val < 1:\n",
    "        return 'Stable'\n",
    "    else:\n",
    "        return 'Rising'\n",
    "df['Inflation Level'] = df['Inflation rate'].apply(inflation_level)\n",
    "\n",
    "df_final = df[[\n",
    "    'Daytime/evening attendance',\n",
    "    'Scholarship holder',\n",
    "    'International',\n",
    "    'Age Group',\n",
    "    'Unemployment Level',\n",
    "    'Inflation Level',\n",
    "    'Target'\n",
    "]].copy()\n",
    "\n",
    "df_final.head()"
   ]
  },
  {
   "cell_type": "markdown",
   "metadata": {
    "id": "dEawVHxyKQTo"
   },
   "source": [
    "*The network is designed with the following logic:*\n",
    "\n",
    "1. **Age Group**\n",
    "\n",
    "   * Directly influences **Daytime/evening attendance**, reflecting how life stage shapes course scheduling preferences.\n",
    "   * Directly impacts **Target** (dropout risk), as different age brackets exhibit varying persistence levels.\n",
    "   * **Daytime/evening attendance** itself then feeds into **Target**, capturing the compounded effect of scheduling on retention.\n",
    "\n",
    "2. **International**\n",
    "\n",
    "   * Determines **Scholarship holder** eligibility, since many institutions prioritize financial aid for non domestic students.\n",
    "   * Exerts an independent effect on **Target**, accounting for additional challenges such as cultural adaptation that can affect dropout rates.\n",
    "\n",
    "3. **Scholarship holder**\n",
    "\n",
    "   * Influences **Daytime/evening attendance**, as funded students may choose schedules that best leverage their financial support.\n",
    "   * Directly reduces **Target** risk, because scholarships alleviate economic pressures that often drive attrition.\n",
    "\n",
    "4. **Macroeconomic Factors**\n",
    "\n",
    "   4.1 **Inflation Level**\n",
    "  \n",
    "    Governs **Scholarship holder** rates (institutions may adjust aid budgets in response to rising costs).\n",
    "    \n",
    "    Shapes **Unemployment Level**, since high inflation often correlates with volatile job markets.\n",
    "    \n",
    "     Directly pressures **Target**, as higher living costs can push students toward dropout.\n",
    "\n",
    "   4.2 **Unemployment Level**\n",
    "   \n",
    "   Independently affects **Target**, reflecting how local job market health influences a student’s ability to continue their studies.\n",
    "\n"
   ]
  },
  {
   "cell_type": "code",
   "execution_count": null,
   "metadata": {
    "id": "vS6SOgNgWv2z"
   },
   "outputs": [],
   "source": [
    "# Define the Bayesian Network\n",
    "model = BayesianModel([\n",
    "    # 1) Demographics → attendance & dropout\n",
    "    ('Age Group',                'Daytime/evening attendance'),\n",
    "    ('Age Group',                'Target'),\n",
    "    ('Daytime/evening attendance','Target'),\n",
    "\n",
    "    # 2) International status → scholarship & dropout\n",
    "    ('International',            'Scholarship holder'),\n",
    "    ('International',            'Target'),\n",
    "\n",
    "    # 3) Scholarship → attendance & dropout\n",
    "    ('Scholarship holder',       'Daytime/evening attendance'),\n",
    "    ('Scholarship holder',       'Target'),\n",
    "\n",
    "    # 4) Macroeconomic factors → scholarship & dropout\n",
    "    ('Inflation Level',          'Scholarship holder'),\n",
    "    ('Inflation Level',          'Unemployment Level'),\n",
    "    ('Inflation Level',          'Target'),\n",
    "    ('Unemployment Level',       'Target'),\n",
    "])"
   ]
  },
  {
   "cell_type": "markdown",
   "metadata": {
    "id": "8peHSpDDMTrE"
   },
   "source": [
    "**Estimating Conditional Probability Tables (CPTs)**\n",
    "\n",
    "Conditional Probability Tables (CPTs) define the probability of each variable taking on a particular value given every possible combination of its parent variables. They are the core parameters of a Bayesian network, encoding how each node depends on its predecessors. Estimating CPTs from data transforms a qualitative dependency graph into a quantitative model, enabling the computation of joint and conditional probabilities for inference, prediction, and reasoning under uncertainty.\n",
    "\n"
   ]
  },
  {
   "cell_type": "code",
   "execution_count": null,
   "metadata": {
    "colab": {
     "base_uri": "https://localhost:8080/",
     "height": 1000
    },
    "id": "0_b7pniVkizq",
    "outputId": "1971addf-2c46-4671-b457-ec94f0173677"
   },
   "outputs": [],
   "source": [
    "# Fit the data to the Bayesian Network to obtain the CPTs\n",
    "np.product = np.prod\n",
    "display(HTML(\"<style>div.output_area pre {white-space: pre;}</style>\"))\n",
    "model.cpds = []\n",
    "model.fit(data=df,\n",
    "          estimator=BayesianEstimator,\n",
    "          prior_type=\"BDeu\",\n",
    "          equivalent_sample_size=10,\n",
    "          complete_samples_only=False)\n",
    "\n",
    "print(f'Check model: {model.check_model()}\\n')\n",
    "for cpd in model.get_cpds():\n",
    "    print(f'CPT of {cpd.variable}:')\n",
    "    print(cpd, '\\n')"
   ]
  },
  {
   "cell_type": "code",
   "execution_count": null,
   "metadata": {
    "colab": {
     "base_uri": "https://localhost:8080/"
    },
    "id": "Bk9zsT9Lpc5T",
    "outputId": "a6c8ad6e-2980-4eca-c506-4e8b167833d5"
   },
   "outputs": [],
   "source": [
    "#Print all truncated values as well\n",
    "for cpd in model.get_cpds():\n",
    "    print(f\"\\n=== CPT of {cpd.variable} ===\")\n",
    "\n",
    "    print(f\"Variable: {cpd.variable}\")\n",
    "    print(f\"Variable states: {cpd.state_names[cpd.variable]}\")\n",
    "\n",
    "    if cpd.variables[1:]:\n",
    "        print(f\"Parents: {cpd.variables[1:]}\")\n",
    "        parent_states = {parent: cpd.state_names[parent] for parent in cpd.variables[1:]}\n",
    "        print(f\"Parent states: {parent_states}\")\n",
    "\n",
    "    # Print the raw probability values as a NumPy array\n",
    "    print(\"Probability values (raw):\")\n",
    "    print(cpd.values)\n",
    "\n",
    "    print(\"-\" * 30)"
   ]
  },
  {
   "cell_type": "code",
   "execution_count": null,
   "metadata": {
    "colab": {
     "base_uri": "https://localhost:8080/"
    },
    "id": "MuDSpGlHh2AN",
    "outputId": "2b659607-bd2c-44e2-9f69-ae6bd65c5e8c"
   },
   "outputs": [],
   "source": [
    "# Grab the Target CPD\n",
    "cpd = next(c for c in model.get_cpds() if c.variable == \"Target\")\n",
    "\n",
    "# Check the shape\n",
    "var_card    = cpd.variable_card      # e.g. 3\n",
    "parent_cards = [model.get_cardinality(p) for p in cpd.get_evidence()]\n",
    "expected_columns = reduce(operator.mul, parent_cards, 1)\n",
    "flat = cpd.values.reshape(var_card, -1)\n",
    "\n",
    "# Check each column sums to 1\n",
    "col_sums = flat.sum(axis=0)\n",
    "bad_cols = [i for i, s in enumerate(col_sums) if abs(s - 1.0) > 1e-8]\n",
    "\n",
    "if not bad_cols:\n",
    "    print(\"All\", expected_columns, \"columns sum to 1\")\n",
    "else:\n",
    "    print(f\" Columns {bad_cols[:10]} (of {expected_columns}) sum ≠ 1\")\n",
    "    print(\"First few sums:\", col_sums[:10])\n"
   ]
  },
  {
   "cell_type": "markdown",
   "metadata": {
    "id": "ngBa5-hs3lv3"
   },
   "source": [
    "## **Network Analysis**\n",
    "Below we perform a series of checks and queries to validate our Bayesian Network.\n",
    "1. ***DAG Acyclicity :*** A Bayesian Network must form a Directed Acyclic Graph (DAG) i.e a directed graph with no cycles that ensures a valid factorization of the joint probability distribution.\n",
    "2. ***Global Independence Assertions:*** The DAG structure of a Bayesian Network implies a set of conditional independence relations statements of the form I(X, Y | Z), meaning **“X is independent of Y given Z.”** These global assertions capture every independence implied by the graph’s topology.\n",
    "3. ***Local (Markov) Semantics:*** The local Markov property states that each node is conditionally independent of its non descendants once its direct parents are known. This means that after accounting for a node’s parents, no other variables outside its ancestral line provide additional information about it.\n",
    "4. ***Active Trails and d-Separation:*** An active trail is a path through the DAG along which probabilistic influence can flow, given a set of observed (evidence) variables. d-Separation defines when two nodes are independent: if every path between them is “blocked” by the evidence (i.e., no active trails remain), they are conditionally independent. Conversely, if at least one active trail exists, information can pass and the nodes are dependent under the given evidence.\n",
    "5. ***Markov Blanket:*** The Markov blanket of a node is the minimal set (its parents, children, and its children’s other parents) that makes it independent of all other variables.  \n",
    "6.***Assertion Frequency Analysis***: By counting how often each variable appears as the “independent” side or within the evidence set across all assertions, we assess which nodes are most structurally central in driving independencies.\n",
    "7. ***Sample Assertion Checks:*** We rigorously test specific conditional-independence hypotheses by creating IndependenceAssertion(X, Y | Z) objects formalizing *“X is independent of Y given Z”* and confirming they appear in the network’s global set of implied independencies. This targeted validation ensures our learned DAG faithfully encodes the intended dependency structure and serves as a robust sanity check of its conditional independence properties."
   ]
  },
  {
   "cell_type": "code",
   "execution_count": null,
   "metadata": {
    "colab": {
     "base_uri": "https://localhost:8080/"
    },
    "id": "Y2UXmb6Sp6-c",
    "outputId": "76ab2e74-ec23-4882-df8c-40441667bc2d"
   },
   "outputs": [],
   "source": [
    "# 1. Check acyclicity\n",
    "print(\"Is DAG:\", model.check_model())  # True if no cycles and CPDs sum to 1\n",
    "#How many valid independence assertions does pgmpy enumerate?\n",
    "all_assertions = model.get_independencies().get_assertions()\n",
    "print(f\"Total independence assertions: {len(all_assertions)}\\n\")\n",
    "\n",
    "#Local (Markov‐) semantics: each node ⟂ non‐descendants | parents\n",
    "print(\"Local independencies (node ⟂ non-descendents | parents):\")\n",
    "for node in model.nodes():\n",
    "    print(f\"  {node:25s}  ⟂  NonDesc | Parents = {model.local_independencies(node)}\")\n",
    "print()\n",
    "\n",
    "#Active trails: given some evidence, which other nodes remain connected?\n",
    "def show_active_trails(query, evidence):\n",
    "    active = set(model.active_trail_nodes(query, observed=evidence).get(query, []))\n",
    "    active.discard(query)\n",
    "    if evidence:\n",
    "        print(f\"Active trails from '{query}' given evidence={evidence}: {active}\")\n",
    "    else:\n",
    "        print(f\"Active trails from '{query}' with no evidence: {active}\")\n",
    "\n",
    "# example calls\n",
    "show_active_trails('Target', evidence=[])\n",
    "show_active_trails('Target', evidence=['Scholarship holder'])\n",
    "show_active_trails('Target', evidence=['International','Age Group'])\n",
    "print()\n",
    "\n",
    "#Markov blanket of each key node\n",
    "print(\"Markov blankets:\")\n",
    "for node in ['Target','Scholarship holder','International','Daytime/evening attendance']:\n",
    "    print(f\"  {node:25s} → {model.get_markov_blanket(node)}\")\n",
    "print()\n",
    "\n",
    "# Who appears most/least as independent variable vs. evidence in assertions?\n",
    "nodes = list(model.nodes())\n",
    "def count_event1(n): return sum(1 for a in all_assertions if n in a.event1)\n",
    "def count_event3(n): return sum(1 for a in all_assertions if n in a.event3)\n",
    "\n",
    "indep_scores = {n: count_event1(n) for n in nodes}\n",
    "evid_scores  = {n: count_event3(n) for n in nodes}\n",
    "\n",
    "max_indep = max(indep_scores.values()); min_indep = min(indep_scores.values())\n",
    "max_evid  = max(evid_scores.values());  min_evid  = min(evid_scores.values())\n",
    "\n",
    "print(f\"Nodes most often independent-vars ({max_indep} times):\",\n",
    "      [n for n,s in indep_scores.items() if s==max_indep])\n",
    "print(f\"Nodes least often independent-vars ({min_indep} times):\",\n",
    "      [n for n,s in indep_scores.items() if s==min_indep])\n",
    "print(f\"Nodes most often evidence ({max_evid} times):\",\n",
    "      [n for n,s in evid_scores.items() if s==max_evid])\n",
    "print(f\"Nodes least often evidence ({min_evid} times):\",\n",
    "      [n for n,s in evid_scores.items() if s==min_evid])\n",
    "print()\n",
    "\n",
    "# Quick checks of specific assertions\n",
    "def check_assertion(independent, dependent, evidence):\n",
    "    a = IndependenceAssertion(independent, dependent, evidence)\n",
    "    ok = any(\n",
    "        frozenset(a.event1)==ass.event1\n",
    "        and a.event2.issubset(ass.event2)\n",
    "        and frozenset(a.event3)==ass.event3\n",
    "        for ass in all_assertions\n",
    "    )\n",
    "    print(f\"{a} --> {ok}\")\n",
    "\n",
    "print(\"Sample assertion checks:\")\n",
    "check_assertion(['Age Group'], ['Daytime/evening attendance'], [])\n",
    "check_assertion(['Target'], ['Age Group'], ['Daytime/evening attendance'])\n",
    "check_assertion(['International'], ['Scholarship holder'], [])\n",
    "check_assertion(['International'], ['Target'], ['Scholarship holder'])\n",
    "check_assertion(['Age Group'], ['International'], [])\n"
   ]
  },
  {
   "cell_type": "code",
   "execution_count": null,
   "metadata": {
    "colab": {
     "base_uri": "https://localhost:8080/",
     "height": 521
    },
    "id": "wiuqL51YbHOd",
    "outputId": "0bdc6788-1cde-4418-e4ab-7b85fb88b18b"
   },
   "outputs": [],
   "source": [
    "# Rename the nodes for neater visualisation\n",
    "label_map = {\n",
    "    'Age Group': 'Age',\n",
    "    'Daytime/evening attendance': 'Attend',\n",
    "    'Unemployment Level': 'Unemp',\n",
    "    'Scholarship holder': 'Scholar',\n",
    "    'Target': 'Status',\n",
    "    'International': 'Intl',\n",
    "    'Inflation Level': 'Infltn',\n",
    "    'Gender': 'Gender'\n",
    "}\n",
    "# Visualise the constructed Bayesian Network\n",
    "G = nx.DiGraph()\n",
    "G.add_edges_from(model.edges())\n",
    "G = nx.relabel_nodes(G, label_map)\n",
    "plt.figure(figsize=(12, 6))\n",
    "nx.draw_networkx(G,\n",
    "                 node_color='purple',\n",
    "                 node_size=1800,\n",
    "                 font_size=10,\n",
    "                 font_color='white',\n",
    "                 font_weight='bold',\n",
    "                 edge_color='black',\n",
    "                 arrows=True)\n",
    "plt.title(' Bayesian Network ')\n",
    "plt.axis('off')\n",
    "plt.show()\n"
   ]
  },
  {
   "cell_type": "markdown",
   "metadata": {
    "id": "wTieXg1o4ivU"
   },
   "source": [
    "# **Infering the Fitted Bayesian network**\n",
    "\n",
    "The Bayesian network can now be infered to answer questions regarding the probability of certain causes of student dropout given observed evidence. This is done using two alternative methods, namely the exact inference using variable elimination or approximate inference using likelihood weighted sampling."
   ]
  },
  {
   "cell_type": "markdown",
   "metadata": {
    "id": "DcgZJNWaYE2w"
   },
   "source": [
    "**Variable Elimination (VE)**\n",
    "\n",
    "Variable Elimination is an exact inference technique for Bayesian networks that computes the posterior P(Q | evidence) by methodically removing all irrelevant variables. It begins by incorporating observed evidence: each conditional probability table (CPT) is restricted to the known values, then the resulting factors are multiplied to form joint distributions over the remaining variables. Next, hidden variables are eliminated one at a time by summing them out of these intermediate factors. Finally, the remaining factor, defined solely over the query variable, is normalized so its probabilities sum to one, yielding the exact posterior distribution for Q given the evidence.\n"
   ]
  },
  {
   "cell_type": "code",
   "execution_count": null,
   "metadata": {
    "id": "y0s1cEyziayE"
   },
   "outputs": [],
   "source": [
    "# Define the inference function using variable elimination\n",
    "def varElim(Q, evidence):\n",
    "    infer = VariableElimination(model)\n",
    "\n",
    "    string = ''\n",
    "    lst = list(evidence.items())\n",
    "    last = len(lst) - 1\n",
    "\n",
    "    for i, pair in enumerate(lst):\n",
    "        string += pair[0] + '=' + str(pair[1])\n",
    "        if i != last:\n",
    "            string += ', '\n",
    "\n",
    "    prob = infer.query([Q], evidence=evidence, show_progress=False)\n",
    "    val = prob.values\n",
    "\n",
    "    print('Probability of {} given {}\\n'.format(Q, string))\n",
    "    print(prob)"
   ]
  },
  {
   "cell_type": "markdown",
   "metadata": {
    "id": "AkgT2fLcYqhK"
   },
   "source": [
    "**Likelihood Weighted Sampling**\n",
    "\n",
    "It is an approximate inference method for Bayesian networks that estimates P(Q | evidence) by generating samples consistent with observed evidence. Each sample assigns values to all variables, but evidence variables are fixed, and non-evidence variables are sampled. Every sample receives a weight equal to the product of the probabilities of the evidence variables given their sampled parents. After generating many weighted samples, the posterior distribution of the query variable Q is approximated by the normalized sum of weights for samples where Q takes each possible value. This approach focuses computational effort on regions of the sample space consistent with evidence, improving efficiency over naive sampling."
   ]
  },
  {
   "cell_type": "code",
   "execution_count": null,
   "metadata": {
    "id": "TnSa4m19if6i"
   },
   "outputs": [],
   "source": [
    "# Define the inference function using likelihood weighted sampling\n",
    "def sampLW(Q, evidence, sample_size):\n",
    "    infer = BayesianModelSampling(model)\n",
    "\n",
    "    samples = infer.likelihood_weighted_sample(evidence=evidence, size=sample_size, seed=0)\n",
    "\n",
    "    unique = samples[Q].unique()\n",
    "    unique.sort()\n",
    "\n",
    "    string = ''\n",
    "    last = len(evidence) - 1\n",
    "    for i, pair in enumerate(evidence):\n",
    "        string += pair[0] + '=' + str(pair[1])\n",
    "        if i != last:\n",
    "            string += ', '\n",
    "\n",
    "    print('Probability of {} given {}\\n'.format(Q, string))\n",
    "\n",
    "    prob_lst = []\n",
    "    for val in unique:\n",
    "        rows = samples[samples[Q] == val]\n",
    "\n",
    "        numerator = np.sum(rows['_weight'])\n",
    "        denominator = np.sum(samples['_weight'])\n",
    "        prob = round(numerator/denominator, 4)\n",
    "\n",
    "        prob_lst.append(prob)\n",
    "\n",
    "        print('{}({}) = {}'.format(Q, val, prob))"
   ]
  },
  {
   "cell_type": "markdown",
   "metadata": {
    "id": "AzS5Blj_ZZox"
   },
   "source": [
    "# **Probabilistic Inference Queries**\n"
   ]
  },
  {
   "cell_type": "markdown",
   "metadata": {
    "id": "bJJss8ventAM"
   },
   "source": [
    "**1) How likely is a student to drop out if they are an international student and on a scholarship?**\n",
    "\n",
    "\n",
    "\n"
   ]
  },
  {
   "cell_type": "markdown",
   "metadata": {
    "id": "5aejJWsSbnhp"
   },
   "source": [
    "This query asks for the predictive probability (causal inference) that an undergraduate will drop out given two observed conditions: that they are an international student and that they hold a scholarship."
   ]
  },
  {
   "cell_type": "code",
   "execution_count": null,
   "metadata": {
    "colab": {
     "base_uri": "https://localhost:8080/"
    },
    "id": "6AO7bt3ix1wN",
    "outputId": "0480cc61-9788-4ff3-aa9b-c9b1c9f8d02d"
   },
   "outputs": [],
   "source": [
    "# Inference using variable elimination\n",
    "varElim('Target', {\n",
    "    'International': 1,\n",
    "    'Scholarship holder': 1\n",
    "})\n"
   ]
  },
  {
   "cell_type": "code",
   "execution_count": null,
   "metadata": {
    "colab": {
     "base_uri": "https://localhost:8080/",
     "height": 140,
     "referenced_widgets": [
      "0cee0798e0aa4a389ed98687ec7e6b77",
      "929dec462ce7421fbfe2172f8740cb77",
      "ee458a1c84e744fdbd71250d0669177a",
      "f74f1920e2a544e7a0ee1f696911b746",
      "2108064d6b074811bff8b79f984ef821",
      "91c9788852fa42a594d4ed4e9137ab4d",
      "942d7486ceaf41d8911e63aa13b9fb96",
      "524d3ea26b2d49f68c6f4b5b74e7c2b4",
      "3ec5bf05fdcf4756b8e8988f5dd67484",
      "551a1de54e1f4a6a9e5e677af186ec99",
      "b1342570eb67430eaf7ed4f82e23a8ab"
     ]
    },
    "id": "_eK8x7rXyTUb",
    "outputId": "2a21c633-c5bd-456b-8191-e8d59b2b5e08"
   },
   "outputs": [],
   "source": [
    "# Inference using likelihood weighted sampling\n",
    "sampLW('Target', [\n",
    "    State('International', 1),\n",
    "    State('Scholarship holder', 1)\n",
    "], sample_size=10000)\n"
   ]
  },
  {
   "cell_type": "markdown",
   "metadata": {
    "id": "LnXDFvw2b5UR"
   },
   "source": [
    "This dropout probability is relatively low. This is most likely due to the additional financial support and academic resources that scholarship recipients receive, which help mitigate the challenges international students face."
   ]
  },
  {
   "cell_type": "markdown",
   "metadata": {
    "id": "qDGgquXr34_U"
   },
   "source": [
    "**2) Does attending evening classes increase dropout probability for older students?**"
   ]
  },
  {
   "cell_type": "markdown",
   "metadata": {
    "id": "GuSfGeARchUP"
   },
   "source": [
    "This query asks for the predictive probability (causal inference) of dropout given that a student is international and holds a scholarship."
   ]
  },
  {
   "cell_type": "code",
   "execution_count": null,
   "metadata": {
    "colab": {
     "base_uri": "https://localhost:8080/"
    },
    "id": "fjTyXJ1K36CE",
    "outputId": "1fdba911-6bb8-4a1a-9dbc-8824ac46a310"
   },
   "outputs": [],
   "source": [
    "# Inference using variable elimination\n",
    "varElim('Target', {\n",
    "    'Age Group': 'Older',\n",
    "    'Daytime/evening attendance': 1\n",
    "})\n"
   ]
  },
  {
   "cell_type": "code",
   "execution_count": null,
   "metadata": {
    "colab": {
     "base_uri": "https://localhost:8080/",
     "height": 140,
     "referenced_widgets": [
      "f93a9dedd8c04164b2fe9b00bc99ef29",
      "8503b3b7acf04c00a58bc855cd475d70",
      "4a4fc30142f04bfdb63103ba794ea3ed",
      "d2c8f477935c4e7da81fcf8e5ec661ee",
      "4b253556cace4874894e188531b69df7",
      "eebe2590ef444539b036dfdda3699b13",
      "5a044078a6c143f3b51c5821e2194ac9",
      "1253fbb00eab44b5816abbad3dad0da2",
      "949c94b22cf34e8e9c7024c38bf84955",
      "25fc1179fffb4784a860f474b16bfbc0",
      "3afb71b925634f7d83af883e30e2b046"
     ]
    },
    "id": "t2BhNCNd4rQF",
    "outputId": "26331a6a-2c41-4d51-fd25-699ddf5811c4"
   },
   "outputs": [],
   "source": [
    "# Inference using likelihood weighted sampling\n",
    "sampLW('Target', [\n",
    "    State('Age Group', 'Older'),\n",
    "    State('Daytime/evening attendance', 1)\n",
    "], sample_size=10000)\n"
   ]
  },
  {
   "cell_type": "markdown",
   "metadata": {
    "id": "pfCj-m09Biff"
   },
   "source": [
    "This dropout probability is relatively high. Older students in evening programs often balance work, family, and study commitments with fewer on-campus supports, which can increase their risk of attrition."
   ]
  },
  {
   "cell_type": "markdown",
   "metadata": {
    "id": "LAv3owixKRKz"
   },
   "source": [
    "**3) If a student dropped out, what’s the chance inflation was Rising?**\n"
   ]
  },
  {
   "cell_type": "markdown",
   "metadata": {
    "id": "m0gA4IQjDPss"
   },
   "source": [
    "This query uses evidential reasoning to estimate the probability that inflation was ‘Rising’ given that a student dropped out."
   ]
  },
  {
   "cell_type": "code",
   "execution_count": null,
   "metadata": {
    "colab": {
     "base_uri": "https://localhost:8080/"
    },
    "id": "KK0m2E506t5b",
    "outputId": "5269236c-4095-44f2-ec75-abd01e2267e0"
   },
   "outputs": [],
   "source": [
    "# Inference using variable elimination\n",
    "varElim('Inflation Level', {'Target':'Dropout'})\n"
   ]
  },
  {
   "cell_type": "code",
   "execution_count": null,
   "metadata": {
    "colab": {
     "base_uri": "https://localhost:8080/",
     "height": 140,
     "referenced_widgets": [
      "0b9193a21ece435fa1dfef4118186b47",
      "fea266cb05554bfea199bdd9ebfaa8ec",
      "1beea04aefa6446e9f80346d2ea302a5",
      "9fd5411587754f398bb40ac58a067221",
      "293a5a8ec517475abf5507415c82e6fd",
      "87dc5048f98e4bea88ac090461b395d3",
      "4e0b7f53004a4b739ac1e7e9f9e99418",
      "d091a34f0f2b489ab64b4575c25db0ef",
      "896dc7d8ee76420e807c24de221da57f",
      "671ef81eaac34a0d8cdacca8e5405713",
      "ea028d41731d462b9b81931bb4ec466e"
     ]
    },
    "id": "MDcmVuHD9GQb",
    "outputId": "7bb57d16-64b1-4df8-a8ba-1d701b70d5b8"
   },
   "outputs": [],
   "source": [
    "# Inference using likelihood weighted sampling\n",
    "sampLW(\n",
    "    'Inflation Level',\n",
    "    [State('Target', 'Dropout')],\n",
    "    sample_size=10000\n",
    ")\n"
   ]
  },
  {
   "cell_type": "markdown",
   "metadata": {
    "id": "ofSyioIWDhwP"
   },
   "source": [
    "The outcome shows that if a student drops out, there’s about a 54% chance they were facing rising inflation showing that higher living costs often go hand-in-hand with students leaving their studies."
   ]
  },
  {
   "cell_type": "markdown",
   "metadata": {
    "id": "qkfuCDAK9pQx"
   },
   "source": [
    "**4) What is the probability that a student held a scholarship given that they dropout and are an international student?**"
   ]
  },
  {
   "cell_type": "markdown",
   "metadata": {
    "id": "oZh9XkfGDvE0"
   },
   "source": [
    "This query asks if a student dropped out and is an international student, what’s the chance they held a scholarship. It uses intercausal (explaining-away) reasoning to update our belief about scholarship status given both dropout and international status."
   ]
  },
  {
   "cell_type": "code",
   "execution_count": null,
   "metadata": {
    "colab": {
     "base_uri": "https://localhost:8080/"
    },
    "id": "bhhNJBKi9pjG",
    "outputId": "05a99770-6804-4072-dc87-0752507563e7"
   },
   "outputs": [],
   "source": [
    "# Inference using variable elimination\n",
    "varElim('Scholarship holder',\n",
    "        {'Target':'Dropout','International':1})"
   ]
  },
  {
   "cell_type": "code",
   "execution_count": null,
   "metadata": {
    "colab": {
     "base_uri": "https://localhost:8080/",
     "height": 122,
     "referenced_widgets": [
      "de193eb6aad24905bf8a5644450edbf4",
      "2596bd43fbbf46898e669ff154bb121f",
      "fa0c58dd92764838962295760b64919e",
      "60924065040d44ecaf07fffe93956b24",
      "b93214174fd54b3c9a3ccbc7a5e40e40",
      "32ff69e43fa64f9ba01b6b402a48f5ca",
      "2273b1919be548449ab39c095a3b2a99",
      "d53afb13fb5149cfa0700d37eaf9ba12",
      "5b8fde0c221e4f7d8f9e97045b222b1a",
      "ce1536041516418f8415060183ab52b3",
      "706a0ee0a1ae45e3b54f12206ed9fcb9"
     ]
    },
    "id": "s24c8eBx-OYr",
    "outputId": "88c1e939-1567-42b3-adae-bfdda999e81a"
   },
   "outputs": [],
   "source": [
    "# Inference using likelihood weighted sampling\n",
    "sampLW(\n",
    "    'Scholarship holder',\n",
    "    [\n",
    "        State('Target', 'Dropout'),\n",
    "        State('International', 1)\n",
    "    ],\n",
    "    sample_size=10000\n",
    ")"
   ]
  },
  {
   "cell_type": "markdown",
   "metadata": {
    "id": "bSnnFf3pFhrX"
   },
   "source": [
    "The outcome indicates that among international students who dropped out, only about 15–16% had scholarships. This indicates that the vast majority of international dropouts (around 84%) were not scholarship recipients, suggesting that lack of financial support is a strong risk factor for attrition."
   ]
  },
  {
   "cell_type": "markdown",
   "metadata": {
    "id": "OnEIgBwZ4-Zv"
   },
   "source": [
    "# **Conclusion**"
   ]
  },
  {
   "cell_type": "markdown",
   "metadata": {
    "id": "cox9i4TGHd3z"
   },
   "source": [
    "The project showed how to build and use a Bayesian network to predict which students might drop out. We combined information on demographics, finances, academic performance and economic conditions into a clear model and ran calculations to see how each factor affects dropout chances. To improve the model, we could add more relevant data, refine how we group the variables and involve experts in shaping the network. These steps would make our predictions more accurate and actionable."
   ]
  }
 ],
 "metadata": {
  "colab": {
   "provenance": []
  },
  "kernelspec": {
   "display_name": "Python 3",
   "name": "python3"
  },
  "language_info": {
   "name": "python"
  }
 },
 "nbformat": 4,
 "nbformat_minor": 0
}
